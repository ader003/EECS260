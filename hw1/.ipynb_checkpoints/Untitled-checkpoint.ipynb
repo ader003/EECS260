{
 "cells": [
  {
   "cell_type": "code",
   "execution_count": 1,
   "metadata": {},
   "outputs": [],
   "source": [
    "import numpy as np\n",
    "import matplotlib.pyplot as plt\n",
    "import numpy.linalg as lng\n",
    "import subprocess\n",
    "import os\n",
    "import struct\n",
    "import time"
   ]
  },
  {
   "cell_type": "markdown",
   "metadata": {},
   "source": [
    "# DON'T TOUCH ME"
   ]
  },
  {
   "cell_type": "code",
   "execution_count": 2,
   "metadata": {},
   "outputs": [
    {
     "name": "stdout",
     "output_type": "stream",
     "text": [
      "http://yann.lecun.com/exdb/mnist/train-images-idx3-ubyte.gz\n",
      "http://yann.lecun.com/exdb/mnist/train-labels-idx1-ubyte.gz\n",
      "http://yann.lecun.com/exdb/mnist/t10k-images-idx3-ubyte.gz\n",
      "http://yann.lecun.com/exdb/mnist/t10k-labels-idx1-ubyte.gz\n",
      "done\n",
      "t10k-images-idx3-ubyte.gz\n",
      "train-images-idx3-ubyte.gz\n",
      "train-labels-idx1-ubyte.gz\n",
      "t10k-labels-idx1-ubyte.gz\n"
     ]
    }
   ],
   "source": [
    "## DON'T RUN ME MORE THAN ONCE\n",
    "# downloading and formatting the data\n",
    "# training set images (9912422 bytes), training set labels, test images, test labels\n",
    "urls = ['http://yann.lecun.com/exdb/mnist/train-images-idx3-ubyte.gz', 'http://yann.lecun.com/exdb/mnist/train-labels-idx1-ubyte.gz', 'http://yann.lecun.com/exdb/mnist/t10k-images-idx3-ubyte.gz', 'http://yann.lecun.com/exdb/mnist/t10k-labels-idx1-ubyte.gz']\n",
    "for url in urls:\n",
    "    print(url)\n",
    "    subprocess.run(['wget', url])\n",
    "print('done')\n",
    "## ALSO ONLY RUN ME ONCE\n",
    "files = []\n",
    "path = '/Users/audrey_der/Documents/Spring 2020/EECS260/hw1'\n",
    "for i,file in enumerate(os.listdir(path)):\n",
    "    if file.endswith(\".gz\"):\n",
    "        print(file)\n",
    "        files.append(os.path.basename(file))\n",
    "        subprocess.run(['gzip', '-d', file])"
   ]
  },
  {
   "cell_type": "markdown",
   "metadata": {},
   "source": [
    "# TRAINING: START HERE"
   ]
  },
  {
   "cell_type": "code",
   "execution_count": 15,
   "metadata": {},
   "outputs": [],
   "source": [
    "#time to do minibatch sgd\n",
    "def minibatch_SGD(B, itrs, eta, x, y): # batch size, # iters, learning rate\n",
    "    weights = []\n",
    "    loss = []\n",
    "    W = np.zeros((784,10), dtype=np.float32)\n",
    "    for i in range(itrs):\n",
    "        if i % 250 == 0:\n",
    "            print(\"Num iters: {}\".format(i))\n",
    "        # select batch\n",
    "        r = np.random.choice(len(x), size=B, replace=False)\n",
    "        X = x[r,:]\n",
    "        Y = y[r,:]\n",
    "        gradient = (X@W) # overflowing\n",
    "        gradient = X.T@gradient\n",
    "        g = X.T@Y\n",
    "        gradient -= g\n",
    "        print(\"max: {}, min: {}\".format(gradient.max(), gradient.min()))\n",
    "        W = W - eta*gradient\n",
    "        break\n",
    "        if i % 5 == 0:\n",
    "            weights.append(W)\n",
    "            loss.append(mse(X.dot(W),Y)/B)\n",
    "    return weights, loss\n",
    "\n",
    "def mse(y_hat,y):\n",
    "    return 0.5*np.square(lng.norm((y - y_hat),'fro'))"
   ]
  },
  {
   "cell_type": "markdown",
   "metadata": {},
   "source": [
    "# CAUTION: I TRAIN THE THING"
   ]
  },
  {
   "cell_type": "code",
   "execution_count": 16,
   "metadata": {},
   "outputs": [
    {
     "name": "stdout",
     "output_type": "stream",
     "text": [
      "Training batch size: 1\n",
      "Num iters: 0\n",
      "[  0.   0.   0.   0.   0.   0.   0.   0.   0.   0.   0.   0.   0.   0.\n",
      "   0.   0.   0.   0.   0.   0.   0.   0.   0.   0.   0.   0.   0.   0.\n",
      "   0.   0.   0.   0.   0.   0.   0.   0.   0.   0.   0.   0.   0.   0.\n",
      "   0.   0.   0.   0.   0.   0.   0.   0.   0.   0.   0.   0.   0.   0.\n",
      "   0.   0.   0.   0.   0.   0.   0.   0.   0.   0.   0.   0.   0.   0.\n",
      "   0.   0.   0.   0.   0.   0.   0.   0.   0.   0.   0.   0.   0.   0.\n",
      "   0.   0.   0.   0.   0.   0.   0.   0.   0.   0.   0.   0.   0.   0.\n",
      "   0.   0.   0.   0.   0.   0.   0.   0.   0.   0.   0.   0.   0.   0.\n",
      "   0.   0.   0.   0.   0.   0.   0.   0.   0.   0.   0.   0.   0.   0.\n",
      "   0.   0.  38. 144. 253. 253. 192.  12.   0.   0.   0.   0.   0.   0.\n",
      "   0.   0.   0.   0.   0.   0.   0.   0.   0.   0.   0.   0.   0.  10.\n",
      "  85. 147. 234. 252. 252. 252. 253. 152.   0.   0.   0.   0.   0.   0.\n",
      "   0.   0.   0.   0.   0.   0.   0.   0.   0.   0.   0.   0.  76. 203.\n",
      " 252. 253. 252. 208. 180. 133. 253. 233.  75.   0.   0.   0.   0.   0.\n",
      "   0.   0.   0.   0.   0.   0.   0.   0.   0.   0.   0.  73. 234. 252.\n",
      " 252. 253. 102.  19.   0.   0. 146. 249. 195.   0.   0.   0.   0.   0.\n",
      "   0.   0.   0.   0.   0.   0.   0.   0.   0.   0.  63. 240. 252. 252.\n",
      " 252. 112.  12.   0.   0.   0.   0. 225. 195.   0.   0.   0.   0.   0.\n",
      "   0.   0.   0.   0.   0.   0.   0.   0.   0.  63. 255. 253. 253. 253.\n",
      " 112.   0.   0.   0.   0.   0.   0. 226. 253.  84.   0.   0.   0.   0.\n",
      "   0.   0.   0.   0.   0.   0.   0.   0.   0. 140. 253. 252. 252. 226.\n",
      "  12.   0.   0.   0.   0.   0.   0. 225. 252. 130.   0.   0.   0.   0.\n",
      "   0.   0.   0.   0.   0.   0.   0.   0.  54. 227. 253. 141. 252. 192.\n",
      "   0.   0.   0.   0.   0.   0.   0. 225. 252. 192.   0.   0.   0.   0.\n",
      "   0.   0.   0.   0.   0.   0.   0.  38. 224. 252. 240. 109. 245.  74.\n",
      "   0.   0.   0.   0.   0.   0.   0. 225. 252.  84.   0.   0.   0.   0.\n",
      "   0.   0.   0.   0.   0.   0.   0.  57. 252. 252.  63.  38. 165.   0.\n",
      "   0.   0.   0.   0.   0.   0.  63. 240. 220.  37.   0.   0.   0.   0.\n",
      "   0.   0.   0.   0.   0.   0.   0.  57. 253. 190.   0.   0.   0.   0.\n",
      "   0.   0.   0.   0.   0.   0. 114. 253. 196.   0.   0.   0.   0.   0.\n",
      "   0.   0.   0.   0.   0.   0.   0. 182. 252. 112.   0.   0.   0.   0.\n",
      "   0.   0.   0.   0.   0. 126. 238. 223.  52.   0.   0.   0.   0.   0.\n",
      "   0.   0.   0.   0.   0.   0.  19. 209. 245.  87.   0.   0.   0.   0.\n",
      "   0.   0.   0.   0.  38. 165. 253. 136.   0.   0.   0.   0.   0.   0.\n",
      "   0.   0.   0.   0.   0.   0. 101. 252. 223.   0.   0.   0.   0.   0.\n",
      "   0.   0.   0.  54. 224. 252. 240.  24.   0.   0.   0.   0.   0.   0.\n",
      "   0.   0.   0.   0.   0.   0. 225. 252. 223.   0.   0.   0.   0.   0.\n",
      "   0.   0. 126. 227. 252. 252.  63.   0.   0.   0.   0.   0.   0.   0.\n",
      "   0.   0.   0.   0.   0.   0. 226. 253. 225.   0.   0.   0.   0.   0.\n",
      "  63. 176. 253. 253. 240.  63.   0.   0.   0.   0.   0.   0.   0.   0.\n",
      "   0.   0.   0.   0.   0.   0. 178. 252. 223.   0.   0.   0.  19. 101.\n",
      " 240. 253. 252. 154.  24.   0.   0.   0.   0.   0.   0.   0.   0.   0.\n",
      "   0.   0.   0.   0.   0.   0.  66. 239. 246. 197. 198. 197. 209. 252.\n",
      " 252. 228. 148.  12.   0.   0.   0.   0.   0.   0.   0.   0.   0.   0.\n",
      "   0.   0.   0.   0.   0.   0.   0. 181. 252. 252. 253. 252. 252. 249.\n",
      " 145.  47.   0.   0.   0.   0.   0.   0.   0.   0.   0.   0.   0.   0.\n",
      "   0.   0.   0.   0.   0.   0.   0.  25. 205. 252. 253. 252. 220.  99.\n",
      "   0.   0.   0.   0.   0.   0.   0.   0.   0.   0.   0.   0.   0.   0.\n",
      "   0.   0.   0.   0.   0.   0.   0.   0.   0.   0.   0.   0.   0.   0.\n",
      "   0.   0.   0.   0.   0.   0.   0.   0.   0.   0.   0.   0.   0.   0.\n",
      "   0.   0.   0.   0.   0.   0.   0.   0.   0.   0.   0.   0.   0.   0.\n",
      "   0.   0.   0.   0.   0.   0.   0.   0.   0.   0.   0.   0.   0.   0.\n",
      "   0.   0.   0.   0.   0.   0.   0.   0.   0.   0.   0.   0.   0.   0.\n",
      "   0.   0.   0.   0.   0.   0.   0.   0.   0.   0.   0.   0.   0.   0.\n",
      "   0.   0.   0.   0.   0.   0.   0.   0.   0.   0.   0.   0.   0.   0.\n",
      "   0.   0.   0.   0.   0.   0.   0.   0.   0.   0.   0.   0.   0.   0.]\n",
      "max: 0.0, min: -255.0\n",
      "################\n",
      "Training batch size: 10\n",
      "Num iters: 0\n",
      "[  0.   0.   0.   0.   0.   0.   0.   0.   0.   0.   0.   0.   0.   0.\n",
      "   0.   0.   0.   0.   0.   0.   0.   0.   0.   0.   0.   0.   0.   0.\n",
      "   0.   0.   0.   0.   0.   0.   0.   0.   0.   0.   0.   0.   0.   0.\n",
      "   0.   0.   0.   0.   0.   0.   0.   0.   0.   0.   0.   0.   0.   0.\n",
      "   0.   0.   0.   0.   0.   0.   0.   0.   0.   0.   0.   0.   0.   0.\n",
      "   0.   0.   0.   0.   0.   0.   0.   0.   0.   0.   0.   0.   0.   0.\n",
      "   0.   0.   0.   0.   0.   0.   0.   0.   0.   0.   0.   0.   0.   0.\n",
      "   0.   0.   0.   0.   0.   0.   0.   0.   0.   0.   0.   0.   0.   0.\n",
      "   0.   0.   0.   0.   0.   0.   0.   0.   0.   0.   0.   0.   0.   0.\n",
      "   0.   0.   0.   0.   0.   0.   0.   0.   0.   0.   0.   0.   0.   0.\n",
      "   0.   0.   0.   0.   0.   0.   0.   0.   0.   0.   0.  11. 144. 228.\n",
      " 196. 163. 118.  16.   0.   0.   0.   0.   0.   0.   0.   0.   0.   0.\n",
      "   0.   0.   0.   0.   0.   0.   0.   0.   0.  36. 139. 225. 253. 253.\n",
      " 254. 253. 253. 233.  61.   0.   0.   0.   0.   0.   0.   0.   0.   0.\n",
      "   0.   0.   0.   0.   0.   0.   0.   0.   0. 241. 253. 247. 177. 127.\n",
      " 127. 178. 235. 253. 162.   0.   0.   0.   0.   0.   0.   0.   0.   0.\n",
      "   0.   0.   0.   0.   0.   0.   0.   0.   0. 170. 215.  92.   0.   0.\n",
      "   0.   0. 128. 253. 162.   0.   0.   0.   0.   0.   0.   0.   0.   0.\n",
      "   0.   0.   0.   0.   0.   0.   0.   0.   0.   0.   0.   0.   0.   0.\n",
      "   0.   0. 128. 253. 162.   0.   0.   0.   0.   0.   0.   0.   0.   0.\n",
      "   0.   0.   0.   0.   0.   0.   0.   0.   0.   0.   0.   0.   0.   0.\n",
      "   0.   0. 153. 254. 136.   0.   0.   0.   0.   0.   0.   0.   0.   0.\n",
      "   0.   0.   0.   0.   0.   0.   0.   0.   0.   0.   0.   0.   0.   0.\n",
      "  16. 127. 250. 184.   5.   0.   0.   0.   0.   0.   0.   0.   0.   0.\n",
      "   0.   0.   0.   0.   0.   0.   0.   0.   0.   0.   0.   0.   0.  27.\n",
      " 196. 253. 247.  92.   0.   0.   0.   0.   0.   0.   0.   0.   0.   0.\n",
      "   0.   0.   0.   0.   0.   0.   0.   0.   0.   0.   0.   0.  54. 238.\n",
      " 254. 253. 138.   0.   0.   0.   0.   0.   0.   0.   0.   0.   0.   0.\n",
      "   0.   0.   0.   0.   0.   0.   0.   0.   0.   0.   0.   0. 109. 253.\n",
      " 254. 214.  11.   0.   0.   0.   0.   0.   0.   0.   0.   0.   0.   0.\n",
      "   0.   0.   0.   0.   0.   0.   0.   0.   0.   0.   0.   0.   7. 207.\n",
      " 255. 254. 152.   0.   0.   0.   0.   0.   0.   0.   0.   0.   0.   0.\n",
      "   0.   0.   0.   0.   0.   0.   0.   0.   0.   0.   0.   0.   0.  13.\n",
      " 134. 229. 250. 102.   0.   0.   0.   0.   0.   0.   0.   0.   0.   0.\n",
      "   0.   0.   0.   0.   0.   0.   0.   0.   0.   0.   0.   0.   0.   0.\n",
      "   0. 132. 253. 144.   0.   0.   0.   0.   0.   0.   0.   0.   0.   0.\n",
      "   0.   0.   0.   0.   0.   0.   0.   0.   0.   0.   0.   0.   0.   0.\n",
      "   0.  55. 253. 144.   0.   0.   0.   0.   0.   0.   0.   0.   0.   0.\n",
      "   0.   0.   0.   0.   0.   0.   0.   0.   0.   0.   0.   0.   0.   0.\n",
      "   0.  55. 253. 176.   0.   0.   0.   0.   0.   0.   0.   0.   0.   0.\n",
      "   0.   0.   0.   0.   0.   0.   0.   0.   0.   0.   0.   0.   0.   0.\n",
      "   0. 145. 254. 144.   0.   0.   0.   0.   0.   0.   0.   0.   0.   0.\n",
      "   0.   0.   0.   0.   0.   0.   0.   0.   0.   0.  51.   8.   0.   0.\n",
      "   0. 197. 253. 125.   0.   0.   0.   0.   0.   0.   0.   0.   0.   0.\n",
      "   0.   0.   0.   0.   0.   0.   0.   0.   0.   0. 235. 190. 139.  37.\n",
      " 121. 250. 221.  27.   0.   0.   0.   0.   0.   0.   0.   0.   0.   0.\n",
      "   0.   0.   0.   0.   0.   0.   0.   0.   0.   0.  70. 231. 253. 253.\n",
      " 254. 223.  72.   0.   0.   0.   0.   0.   0.   0.   0.   0.   0.   0.\n",
      "   0.   0.   0.   0.   0.   0.   0.   0.   0.   0.   0.  36. 149. 253.\n",
      " 195.  37.   0.   0.   0.   0.   0.   0.   0.   0.   0.   0.   0.   0.\n",
      "   0.   0.   0.   0.   0.   0.   0.   0.   0.   0.   0.   0.   0.   0.\n",
      "   0.   0.   0.   0.   0.   0.   0.   0.   0.   0.   0.   0.   0.   0.\n",
      "   0.   0.   0.   0.   0.   0.   0.   0.   0.   0.   0.   0.   0.   0.\n",
      "   0.   0.   0.   0.   0.   0.   0.   0.   0.   0.   0.   0.   0.   0.\n",
      "   0.   0.   0.   0.   0.   0.   0.   0.   0.   0.   0.   0.   0.   0.\n",
      "   0.   0.   0.   0.   0.   0.   0.   0.   0.   0.   0.   0.   0.   0.]\n",
      "max: 0.0, min: -762.0\n",
      "################\n",
      "Training batch size: 100\n",
      "Num iters: 0\n",
      "[  0.   0.   0.   0.   0.   0.   0.   0.   0.   0.   0.   0.   0.   0.\n",
      "   0.   0.   0.   0.   0.   0.   0.   0.   0.   0.   0.   0.   0.   0.\n",
      "   0.   0.   0.   0.   0.   0.   0.   0.   0.   0.   0.   0.   0.   0.\n",
      "   0.   0.   0.   0.   0.   0.   0.   0.   0.   0.   0.   0.   0.   0.\n",
      "   0.   0.   0.   0.   0.   0.   0.   0.   0.   0.   0.   0.   0.   0.\n",
      "   0.   0.   0.   0.   0.   0.   0.   0.   0.   0.   0.   0.   0.   0.\n",
      "   0.   0.   0.   0.   0.   0.   0.   0.   0.   0.   0.   0.   0.   0.\n",
      "   0.   0.   0.   0.   0.   0.   0.   0.   0.   0.   0.   0.   0.   0.\n",
      "   0.   0.   0.   0.   0.   0.   0.   0.   0.   0.   0.   0.   0.   0.\n",
      "   0.   0.   0.   0.   0.   0.   0.   0.   0.   0.   0.   0.   0.   0.\n",
      "   0.   0.   0.   0.   0.   0.   0.   0.   0.   0.   0.   0.   0.   0.\n",
      "   0.  22. 161. 197. 227. 114.   0.   0.   0.   0.   0.   0.   0.   0.\n",
      "   0.   0.   0.   0.   0.   0.   0.   0.   0.   0.   0.   0.   0.   0.\n",
      "  22. 242. 254. 254. 229. 253. 106.   0.   0.   0.   0.   0.   0.   0.\n",
      "   0.   0.   0.   0.   0.   0.   0.   0.   0.   0.   0.   0.   0.   0.\n",
      " 130. 254. 254. 153.  11. 192. 139.   0.   0.   0.   0.   0.   0.   0.\n",
      "   0.   0.   0.   0.   0.   0.   0.   0.   0.   0.   0.   0.   0.   0.\n",
      " 215. 254. 254. 114.   0. 124. 139.   0.   0.   0.   0.   0.   0.   0.\n",
      "   0.   0.   0.   0.   0.   0.   0.   0.   0.   0.   0.   0.   0. 122.\n",
      " 254. 254. 176.  85.   0. 124. 139.   0.   0.   0.   0.   0.   0.   0.\n",
      "   0.   0.   0.   0.   0.   0.   0.   0.   0.   0.   0.   0.  20. 240.\n",
      " 254. 207.  24.   0.   0. 196. 139.   0.   0.   0.   0.   0.   0.   0.\n",
      "   0.   0.   0.   0.   0.   0.   0.   0.   0.   0.   0.   2. 173. 254.\n",
      " 210.  23.   0.   0.  20. 230.  70.   0.   0.   0.   0.   0.   0.   0.\n",
      "   0.   0.   0.   0.   0.   0.   0.   0.   0.   0.   0.  91. 254. 241.\n",
      "  21.   0.   0.   0. 111. 221.  13.   0.   0.   0.   0.   0.   0.   0.\n",
      "   0.   0.   0.   0.   0.   0.   0.   0.   0.   0.  14. 216. 254.  79.\n",
      "   0.   0.   0.   5. 136. 165.   5.   0.   0.   0.   0.   0.   0.   0.\n",
      "   0.   0.   0.   0.   0.   0.   0.   0.   0.  13. 193. 254. 220.  52.\n",
      "   0.   0.   0. 140. 254. 254. 139.   0.   0.   0.   0.   0.   0.   0.\n",
      "   0.   0.   0.   0.   0.   0.   0.   0.   0. 153. 255. 249. 109.   0.\n",
      "   0.   0.   0. 202. 254. 227. 113.   0.   0.   0.   0.   0.   0.   0.\n",
      "   0.   0.   0.   0.   0.   0.   0.   0.   0. 177. 254. 128.   0.   0.\n",
      "   0.   0.   0. 165. 241.  35.   2.   0.   0.   0.   0.   0.   0.   0.\n",
      "   0.   0.   0.   0.   0.   0.   0.   0.  48. 236. 247.  46.   0.   0.\n",
      "   0.   0.  37. 243. 107.   0.   0.   0.   0.   0.   0.   0.   0.   0.\n",
      "   0.   0.   0.   0.   0.   0.   0.   0. 180. 254. 100.   0.   0.   0.\n",
      "   0.   0. 140. 139.   4.   0.   0.   0.   0.   0.   0.   0.   0.   0.\n",
      "   0.   0.   0.   0.   0.   0.   0.  28. 237. 162.   8.   0.   0.   0.\n",
      "   0.  28. 159.   4.   0.   0.   0.   0.   0.   0.   0.   0.   0.   0.\n",
      "   0.   0.   0.   0.   0.   0.   0.  65. 254.  44.   0.   0.   0.   0.\n",
      "   0. 100.  18.   0.   0.   0.   0.   0.   0.   0.   0.   0.   0.   0.\n",
      "   0.   0.   0.   0.   0.   0.   0. 140. 254.  44.   0.   0.   0.  19.\n",
      " 115.  92.   0.   0.   0.   0.   0.   0.   0.   0.   0.   0.   0.   0.\n",
      "   0.   0.   0.   0.   0.   0.   0. 105. 254.  50.   0.  14.  85. 235.\n",
      " 185.  26.   0.   0.   0.   0.   0.   0.   0.   0.   0.   0.   0.   0.\n",
      "   0.   0.   0.   0.   0.   0.   0.  15. 229. 208. 136. 237. 253. 154.\n",
      "  25.   0.   0.   0.   0.   0.   0.   0.   0.   0.   0.   0.   0.   0.\n",
      "   0.   0.   0.   0.   0.   0.   0.   0. 128. 254. 254. 187. 100.   0.\n",
      "   0.   0.   0.   0.   0.   0.   0.   0.   0.   0.   0.   0.   0.   0.\n",
      "   0.   0.   0.   0.   0.   0.   0.   0.   0.   0.   0.   0.   0.   0.\n",
      "   0.   0.   0.   0.   0.   0.   0.   0.   0.   0.   0.   0.   0.   0.\n",
      "   0.   0.   0.   0.   0.   0.   0.   0.   0.   0.   0.   0.   0.   0.\n",
      "   0.   0.   0.   0.   0.   0.   0.   0.   0.   0.   0.   0.   0.   0.\n",
      "   0.   0.   0.   0.   0.   0.   0.   0.   0.   0.   0.   0.   0.   0.\n",
      "   0.   0.   0.   0.   0.   0.   0.   0.   0.   0.   0.   0.   0.   0.]\n",
      "max: 0.0, min: -3177.0\n",
      "################\n",
      "Training batch size: 1000\n",
      "Num iters: 0\n",
      "[  0.   0.   0.   0.   0.   0.   0.   0.   0.   0.   0.   0.   0.   0.\n",
      "   0.   0.   0.   0.   0.   0.   0.   0.   0.   0.   0.   0.   0.   0.\n",
      "   0.   0.   0.   0.   0.   0.   0.   0.   0.   0.   0.   0.   0.   0.\n",
      "   0.   0.   0.   0.   0.   0.   0.   0.   0.   0.   0.   0.   0.   0.\n",
      "   0.   0.   0.   0.   0.   0.   0.   0.   0.   0.   0.   0.   0.   0.\n",
      "   0.   0.   0.   0.   0.   0.   0.   0.   0.   0.   0.   0.   0.   0.\n",
      "   0.   0.   0.   0.   0.   0.   0.   0.   0.   0.   0.   0.   0.   0.\n",
      "  34. 173.  92.   0.   0.   0.   0.   0.   0.   0.   0.   0.   0.   0.\n",
      "   0.   0.   0.   0.   0.   0.   0.   0.   0.   0.   0.   0.   0.  30.\n",
      " 221. 253.  44.   0.   0.   0.   0.   0.   0.   0.   0.   0.   0.   0.\n",
      "   0.   0.   0.   0.   0.   0.   0.   0.   0.   0.   0.   0. 108. 229.\n",
      " 241. 126.   8.   0.   0.   0.   0.   0.   0.   0.   0.   0.   0.   0.\n",
      "   0.   0.   0.   0.   0.   0.   0.   0.   0.   0.   0.   4. 194. 253.\n",
      " 202.   0.   0.   0.   0.   0.   0.   0.   0.   0.   0.   0.   0.   0.\n",
      "   0.   0.   0.   0.   0.   0.   0.   0.   0.   0.   0. 117. 253. 229.\n",
      "   0.   0.   0.   0.   0.   0.   0.   0.   0.   0.   0.   0.   0.   0.\n",
      "   0.   0.   0.   0.   0.   0.   0.   0.   0.   0.  48. 232. 226.  94.\n",
      "   0.   0.   0.   0.   0.   0.   0.   0.   0.   0.   0.   0.   0.   0.\n",
      "   0.   0.   0.   0.   0.   0.   0.   0.   0.  48. 233. 251. 121.   0.\n",
      "   0.   0.   0.   0.   0.   0.   0.   0.   0.   0.   0.   0.   0.   0.\n",
      "   0.   0.   0.   0.   0.   0.   0.   0.  54. 232. 253. 236. 155. 155.\n",
      " 155. 155. 112.   2.   0.   0.   0.   0.   0.   0.   0.   0.   0.   0.\n",
      "   0.   0.   0.   0.   0.   0.   0.  51. 231. 253. 253. 253. 253. 220.\n",
      " 187. 253. 253. 181.  61.   0.   0.   0.   0.   0.   0.   0.   0.   0.\n",
      "   0.   0.   0.   0.   0.   0.   0. 133. 253. 253. 152. 143.  61.  19.\n",
      "   5.  33. 167. 253. 246.  48.   0.   0.   0.   0.   0.   0.   0.   0.\n",
      "   0.   0.   0.   0.   0.   0.   0. 117. 221.  96.   0.   0.   0.   0.\n",
      "   0.   0.   0.  71. 255. 129.   3.   0.   0.   0.   0.   0.   0.   0.\n",
      "   0.   0.   0.   0.   0.   0.   0.   0.   0.   0.   0.   0.   0.   0.\n",
      "   0.   0.   0.   7. 192. 253.  99.   0.   0.   0.   0.   0.   0.   0.\n",
      "   0.   0.   0.   0.   0.   0.   0.   0.   0.   0.   0.   0.   0.   0.\n",
      "   0.   0.   0.   0.  75. 253. 131.   0.   0.   0.   0.   0.   0.   0.\n",
      "   0.   0.   0.   0.   0.   0.   0.   0.   0.   0.   0.   0.   0.   0.\n",
      "   0.   0.   0.   0.  56. 253. 131.   0.   0.   0.   0.   0.   0.   0.\n",
      "   0.   0.   0.   0.   0.   0.   0.   0.   0.   0.   0.   0.   0.   0.\n",
      "   0.   0.   0.   0.  56. 253. 131.   0.   0.   0.   0.   0.   0.   0.\n",
      "   0.   0.   0.   0.   0.   0.   0.   0.   0.   0.   0.   0.   0.   0.\n",
      "   0.   0.   0.   0.  56. 253. 131.   0.   0.   0.   0.   0.   0.   0.\n",
      "   0.   0.   0.   0.   0.   0.   0.  10.   0.   0.   0.   0.   0.   0.\n",
      "   0.   0.   0.  26. 237. 253. 128.   0.   0.   0.   0.   0.   0.   0.\n",
      "   0.   0.   0.   0.   0.   0.   0. 167. 131.  45.   4.   0.   0.   0.\n",
      "   0.  31.  88. 206. 253. 180.   9.   0.   0.   0.   0.   0.   0.   0.\n",
      "   0.   0.   0.   0.   0.   0.   0.  93. 193. 253. 193. 188. 188. 188.\n",
      " 189. 234. 253. 247. 152.  14.   0.   0.   0.   0.   0.   0.   0.   0.\n",
      "   0.   0.   0.   0.   0.   0.   0.   0.   8.  71. 244. 253. 171.  95.\n",
      " 143. 143. 143.  34.   0.   0.   0.   0.   0.   0.   0.   0.   0.   0.\n",
      "   0.   0.   0.   0.   0.   0.   0.   0.   0.   0.   0.   0.   0.   0.\n",
      "   0.   0.   0.   0.   0.   0.   0.   0.   0.   0.   0.   0.   0.   0.\n",
      "   0.   0.   0.   0.   0.   0.   0.   0.   0.   0.   0.   0.   0.   0.\n",
      "   0.   0.   0.   0.   0.   0.   0.   0.   0.   0.   0.   0.   0.   0.\n",
      "   0.   0.   0.   0.   0.   0.   0.   0.   0.   0.   0.   0.   0.   0.\n",
      "   0.   0.   0.   0.   0.   0.   0.   0.   0.   0.   0.   0.   0.   0.\n",
      "   0.   0.   0.   0.   0.   0.   0.   0.   0.   0.   0.   0.   0.   0.\n",
      "   0.   0.   0.   0.   0.   0.   0.   0.   0.   0.   0.   0.   0.   0.\n",
      "   0.   0.   0.   0.   0.   0.   0.   0.   0.   0.   0.   0.   0.   0.\n",
      "   0.   0.   0.   0.   0.   0.   0.   0.   0.   0.   0.   0.   0.   0.]\n",
      "max: 0.0, min: -29701.0\n",
      "################\n"
     ]
    }
   ],
   "source": [
    "# reading images\n",
    "# the first four \"elements\" are 32 bit ints\n",
    "with open('train-images-idx3-ubyte', 'rb') as f:\n",
    "    magic_num, size = struct.unpack(\">II\", f.read(8))\n",
    "    rows, cols = struct.unpack(\">II\", f.read(8))\n",
    "    d = np.fromfile(f, dtype=np.dtype(np.uint8).newbyteorder('>'))\n",
    "#     d = d.reshape((size, rows, cols))\n",
    "    x = d.reshape((size, rows*cols))\n",
    "    x = x.astype(np.float32)\n",
    "    \n",
    "with open('train-labels-idx1-ubyte','rb') as f:\n",
    "    magic_num, size = struct.unpack(\">II\", f.read(8))\n",
    "    y = np.fromfile(f, dtype=np.dtype(np.uint8).newbyteorder('>'))\n",
    "    y = y.astype(np.float32)\n",
    "    \n",
    "# one hot encoding\n",
    "Y_ohe = []\n",
    "for i in range(0,10):\n",
    "    n = np.zeros(10)\n",
    "    n[i] = 1\n",
    "    Y_ohe.append(n)\n",
    "    \n",
    "Y = []\n",
    "for e in range(60000): \n",
    "    Y.append(Y_ohe[int(y[e])-1])\n",
    "Y = np.array(Y)\n",
    "\n",
    "\n",
    "# print(\"x.shape: {}\".format(x.shape))\n",
    "# print(\"x[0]: {}\".format(x[0]))\n",
    "# print(\"Y.shape: {}\".format(Y.shape))\n",
    "# print(\"Y[0]: {}\".format(Y[0]))\n",
    "\n",
    "batches = [1, 10, 100, 1000]\n",
    "L = []\n",
    "TT = []\n",
    "weights_at = []\n",
    "\n",
    "for b in batches: \n",
    "    print(\"Training batch size: {}\".format(b))\n",
    "    start_time = time.time()\n",
    "    W, loss = minibatch_SGD(b,1000,10^-11,x,Y) \n",
    "    TT.append(time.time() - start_time)\n",
    "    L.append(loss)\n",
    "    weights_at.append(W)\n",
    "    print(\"################\")"
   ]
  },
  {
   "cell_type": "code",
   "execution_count": 20,
   "metadata": {},
   "outputs": [
    {
     "name": "stdout",
     "output_type": "stream",
     "text": [
      "[1.7690696716308594, 1.7639551162719727, 2.0775249004364014, 7.90180516242981]\n"
     ]
    }
   ],
   "source": [
    "print(TT)"
   ]
  },
  {
   "cell_type": "code",
   "execution_count": 21,
   "metadata": {},
   "outputs": [
    {
     "name": "stdout",
     "output_type": "stream",
     "text": [
      "(4, 200)\n"
     ]
    },
    {
     "name": "stderr",
     "output_type": "stream",
     "text": [
      "/Users/audrey_der/anaconda3/lib/python3.7/site-packages/numpy/ma/core.py:6666: RuntimeWarning: overflow encountered in power\n",
      "  result = np.where(m, fa, umath.power(fa, fb)).view(basetype)\n"
     ]
    },
    {
     "data": {
      "image/png": "[encoded data removed]",
      "text/plain": [
       "<Figure size 1080x720 with 1 Axes>"
      ]
     },
     "metadata": {
      "needs_background": "light"
     },
     "output_type": "display_data"
    }
   ],
   "source": [
    "L = np.array(L)\n",
    "f, axs = plt.subplots(1,1,figsize=(15,10))\n",
    "colors = ['r', 'b', 'g', 'y', 'm', 'k']\n",
    "x_plot = np.linspace(1,1000,num=200)\n",
    "print(L.shape)\n",
    "j = 0\n",
    "for b in range(len(batches)): \n",
    "    plt.subplot(1, 1, 1)\n",
    "    j += 1\n",
    "    plt.plot(x_plot, L[b], alpha=0.45, color=colors[j], linewidth=2, label=\"Batch size: {}\".format(batches[b]))\n",
    "    plt.yscale('log')\n",
    "    plt.grid(True, axis='both', linestyle='-')\n",
    "    plt.xlabel('Iterations')\n",
    "    plt.ylabel('Loss')\n",
    "    plt.title('Training Data: Iteration Count vs. Loss')\n",
    "    plt.legend()\n",
    "plt.savefig('part3',dpi=300)\n",
    "plt.show()"
   ]
  },
  {
   "cell_type": "markdown",
   "metadata": {},
   "source": [
    "# TEST DATA: START HERE"
   ]
  },
  {
   "cell_type": "code",
   "execution_count": 8,
   "metadata": {},
   "outputs": [
    {
     "name": "stdout",
     "output_type": "stream",
     "text": [
      "(10000, 10)\n",
      "[array([1., 0., 0., 0., 0., 0., 0., 0., 0., 0.]), array([0., 1., 0., 0., 0., 0., 0., 0., 0., 0.]), array([0., 0., 1., 0., 0., 0., 0., 0., 0., 0.]), array([0., 0., 0., 1., 0., 0., 0., 0., 0., 0.]), array([0., 0., 0., 0., 1., 0., 0., 0., 0., 0.]), array([0., 0., 0., 0., 0., 1., 0., 0., 0., 0.]), array([0., 0., 0., 0., 0., 0., 1., 0., 0., 0.]), array([0., 0., 0., 0., 0., 0., 0., 1., 0., 0.]), array([0., 0., 0., 0., 0., 0., 0., 0., 1., 0.]), array([0., 0., 0., 0., 0., 0., 0., 0., 0., 1.])]\n"
     ]
    }
   ],
   "source": [
    "# reading images\n",
    "# the first four \"elements\" are 32 bit ints\n",
    "with open('t10k-images-idx3-ubyte', 'rb') as f:\n",
    "    magic_num, size = struct.unpack(\">II\", f.read(8))\n",
    "    rows, cols = struct.unpack(\">II\", f.read(8))\n",
    "    d_test = np.fromfile(f, dtype=np.dtype(np.uint8).newbyteorder('>'))\n",
    "    d_test = d_test.reshape((size, rows, cols))\n",
    "    x_test = d_test.reshape((size, rows*cols)) # (# images , 1 x 784) # use me\n",
    "    \n",
    "with open('t10k-labels-idx1-ubyte','rb') as f:\n",
    "    magic_num, size = struct.unpack(\">II\", f.read(8))\n",
    "    y_test = np.fromfile(f, dtype=np.dtype(np.uint8).newbyteorder('>'))\n",
    "    \n",
    "Y_test = []\n",
    "Y_ohe = [] # may need to make np arr\n",
    "for i in range(0,10):\n",
    "    n = np.zeros(10)\n",
    "    n[i] = 1\n",
    "    Y_ohe.append(n)\n",
    "for e in range(10000): \n",
    "    Y_test.append(Y_ohe[y[e]-1])\n",
    "Y_test = np.array(Y_test)\n",
    "print(Y_test.shape)\n",
    "print(Y_ohe)"
   ]
  },
  {
   "cell_type": "markdown",
   "metadata": {},
   "source": [
    "## Careful !! I calculate things !!"
   ]
  },
  {
   "cell_type": "code",
   "execution_count": 9,
   "metadata": {},
   "outputs": [
    {
     "name": "stdout",
     "output_type": "stream",
     "text": [
      "(4, 200, 784, 10)\n",
      "Batch amount: 1\n",
      "Batch amount: 10\n",
      "Batch amount: 100\n",
      "Batch amount: 1000\n"
     ]
    }
   ],
   "source": [
    "L_test = []\n",
    "weights_at = np.array(weights_at)\n",
    "print(weights_at.shape)\n",
    "for b in range(len(batches)): # 4\n",
    "    print(\"Batch amount: {}\".format(batches[b]))\n",
    "    l_e = []\n",
    "    for w in weights_at[b]: # 200 -- iteration count, weights at each\n",
    "        l_e.append(mse(x_test.dot(w), Y_test))\n",
    "    L_test.append(l_e)"
   ]
  },
  {
   "cell_type": "code",
   "execution_count": 10,
   "metadata": {},
   "outputs": [
    {
     "data": {
      "image/png": "[encoded data removed]",
      "text/plain": [
       "<Figure size 1440x720 with 1 Axes>"
      ]
     },
     "metadata": {
      "needs_background": "light"
     },
     "output_type": "display_data"
    }
   ],
   "source": [
    "L_test = np.array(L_test) # loss at every pixel of some image\n",
    "batches = [1,10,100,1000]\n",
    "f, axs = plt.subplots(1,1,figsize=(20,10))\n",
    "plt.rcParams.update({'font.size': 16})\n",
    "colors = ['r', 'b', 'g', 'y', 'm', 'k']\n",
    "x_plot = np.linspace(1,1000,num=200)\n",
    "j = 0\n",
    "for b in range(len(batches)):\n",
    "    j += 1\n",
    "    plt.plot(x_plot, L_test[b], alpha=0.5, color=colors[j], linewidth=2, label=\"Batch Size: {}\".format(batches[b])) # one line per eta\n",
    "    plt.grid(True, axis='both', linestyle='-')\n",
    "    plt.yscale('log')\n",
    "    plt.xlabel('Iterations')\n",
    "    plt.ylabel('Loss')\n",
    "    plt.title('Test Data: Iteration Count vs. Loss')\n",
    "    plt.legend()\n",
    "plt.savefig('part3_test', dpi=300)\n",
    "plt.show()"
   ]
  },
  {
   "cell_type": "markdown",
   "metadata": {},
   "source": [
    "# PART 5"
   ]
  },
  {
   "cell_type": "code",
   "execution_count": 387,
   "metadata": {},
   "outputs": [],
   "source": [
    "with open('train-images-idx3-ubyte', 'rb') as f:\n",
    "    magic_num, size = struct.unpack(\">II\", f.read(8))\n",
    "    rows, cols = struct.unpack(\">II\", f.read(8))\n",
    "    d = np.fromfile(f, dtype=np.dtype(np.uint8).newbyteorder('>'))\n",
    "    d = d.reshape((size, rows, cols))\n",
    "    x = d.reshape((size, rows*cols)) # (# images , 1 x 784) # use me\n",
    "\n",
    "with open('train-labels-idx1-ubyte','rb') as f:\n",
    "    magic_num, size = struct.unpack(\">II\", f.read(8))\n",
    "    y = np.fromfile(f, dtype=np.dtype(np.uint8).newbyteorder('>'))\n",
    "Y_ohe = [] \n",
    "for i in range(0,10):\n",
    "    n = np.zeros(10)\n",
    "    n[i] = 1\n",
    "    Y_ohe.append(n)\n",
    "Y_all_n = []\n",
    "for e in range(60000):\n",
    "    Y_all_n.append(Y_ohe[y[e]-1])\n",
    "Y_all_n = np.array(Y_all_n)\n",
    "\n",
    "L_5 = [] # loss\n",
    "TT_5 = []\n",
    "weights_at_5 = []"
   ]
  },
  {
   "cell_type": "code",
   "execution_count": 388,
   "metadata": {},
   "outputs": [],
   "source": [
    "def minibatch_SGD_5(B, itrs, eta, N): # batch size, # iters, learning rate\n",
    "    weights_5 = []\n",
    "    W_5 = np.zeros((784,10))\n",
    "    loss_5 = []\n",
    "    idx_x = np.random.choice(len(x), size=N, replace=False)\n",
    "    S_prime = x[idx_x,:]\n",
    "    Y_prime = Y_all_n[idx_x,:]\n",
    "    for i in range(itrs):\n",
    "        if i % 250 == 0:\n",
    "            print(\"Num iters: {}\".format(i))\n",
    "        r = np.random.choice(len(S_prime), size=B, replace=False)\n",
    "        S_prime = S_prime[r,:]\n",
    "        Y_prime = Y_prime[r,:]\n",
    "        # compute gradient; steps 2 and 3\n",
    "        temp = np.matmul(W_5.T,S_prime.T)\n",
    "        gradient = np.true_divide(np.subtract(np.matmul(S_prime.T,temp.T), np.matmul(S_prime.T,Y_prime)),B)\n",
    "        W_5 = W_5 - eta*gradient # new weights\n",
    "        if i % 5 == 0:\n",
    "            l = temp.T - Y_prime\n",
    "            c = [np.argmax(i) for i in [i/N for i in l]]\n",
    "            wrong = 0\n",
    "            for i in range(len(c)):\n",
    "                if np.argmax(Y_prime[i]) != c[i]:\n",
    "                    wrong += 1\n",
    "            loss_5.append((N-wrong)/N)\n",
    "            weights_5.append(W_5)\n",
    "    return weights_5, loss_5"
   ]
  },
  {
   "cell_type": "code",
   "execution_count": 389,
   "metadata": {},
   "outputs": [
    {
     "name": "stdout",
     "output_type": "stream",
     "text": [
      "N: 100\n",
      "Num iters: 0\n",
      "Num iters: 250\n"
     ]
    },
    {
     "name": "stderr",
     "output_type": "stream",
     "text": [
      "/Users/audrey_der/anaconda3/lib/python3.7/site-packages/ipykernel_launcher.py:16: RuntimeWarning: overflow encountered in matmul\n",
      "  app.launch_new_instance()\n",
      "/Users/audrey_der/anaconda3/lib/python3.7/site-packages/ipykernel_launcher.py:15: RuntimeWarning: overflow encountered in matmul\n",
      "  from ipykernel import kernelapp as app\n",
      "/Users/audrey_der/anaconda3/lib/python3.7/site-packages/ipykernel_launcher.py:15: RuntimeWarning: invalid value encountered in matmul\n",
      "  from ipykernel import kernelapp as app\n"
     ]
    },
    {
     "name": "stdout",
     "output_type": "stream",
     "text": [
      "Num iters: 500\n",
      "Num iters: 750\n",
      "-  -  -  -  -  -\n",
      "################\n",
      "N: 500\n",
      "Num iters: 0\n",
      "Num iters: 250\n",
      "Num iters: 500\n",
      "Num iters: 750\n",
      "-  -  -  -  -  -\n",
      "################\n",
      "N: 1000\n",
      "Num iters: 0\n",
      "Num iters: 250\n",
      "Num iters: 500\n",
      "Num iters: 750\n",
      "-  -  -  -  -  -\n",
      "################\n",
      "N: 10000\n",
      "Num iters: 0\n",
      "Num iters: 250\n",
      "Num iters: 500\n",
      "Num iters: 750\n",
      "-  -  -  -  -  -\n",
      "################\n"
     ]
    }
   ],
   "source": [
    "for n in [100,500,1000,10000]: \n",
    "    print(\"N: {}\".format(n))\n",
    "    W_5, loss_5 = minibatch_SGD_5(100,1000,10^-10,n)\n",
    "    print(\"-  -  -  -  -  -\")\n",
    "    L_5.append(loss_5)\n",
    "    weights_at_5.append(W_5)\n",
    "    print(\"################\")"
   ]
  },
  {
   "cell_type": "code",
   "execution_count": 390,
   "metadata": {},
   "outputs": [
    {
     "data": {
      "image/png": "[encoded data removed]",
      "text/plain": [
       "<Figure size 1440x720 with 1 Axes>"
      ]
     },
     "metadata": {
      "needs_background": "light"
     },
     "output_type": "display_data"
    }
   ],
   "source": [
    "L_5 = np.array(L_5)\n",
    "f, axs = plt.subplots(1,1,figsize=(20,10))\n",
    "plt.rcParams.update({'font.size': 16})\n",
    "colors = ['r', 'b', 'g', 'y', 'm', 'k']\n",
    "x_plot = np.linspace(0,1000,num=200)\n",
    "j = 0\n",
    "plt.subplot(1,1,1)\n",
    "for n in range(len(N)): # batch\n",
    "    plt.plot(x_plot, L_5[n], alpha=0.55, color=colors[j], linewidth=2, label=\"N: {}\".format(N[n])) # one line per eta\n",
    "    j += 1\n",
    "#     plt.yscale('log')\n",
    "    plt.grid(True, axis='both', linestyle='-')\n",
    "    plt.xlabel('Iterations')\n",
    "    plt.ylabel('Accuracy (%)')\n",
    "    plt.title('Training Data: Dataset Size vs. Accuracy')\n",
    "    plt.legend()\n",
    "plt.savefig('part5',dpi=300)\n",
    "plt.show()"
   ]
  },
  {
   "cell_type": "code",
   "execution_count": null,
   "metadata": {},
   "outputs": [],
   "source": []
  }
 ],
 "metadata": {
  "kernelspec": {
   "display_name": "Python 3",
   "language": "python",
   "name": "python3"
  },
  "language_info": {
   "codemirror_mode": {
    "name": "ipython",
    "version": 3
   },
   "file_extension": ".py",
   "mimetype": "text/x-python",
   "name": "python",
   "nbconvert_exporter": "python",
   "pygments_lexer": "ipython3",
   "version": "3.7.3"
  }
 },
 "nbformat": 4,
 "nbformat_minor": 2
}
