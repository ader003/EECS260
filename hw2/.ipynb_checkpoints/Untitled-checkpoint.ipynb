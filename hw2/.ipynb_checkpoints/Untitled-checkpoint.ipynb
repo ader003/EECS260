{
 "cells": [
  {
   "cell_type": "markdown",
   "metadata": {},
   "source": [
    "# imports, read data, and preprocessing"
   ]
  },
  {
   "cell_type": "code",
   "execution_count": 1,
   "metadata": {},
   "outputs": [],
   "source": [
    "import numpy as np\n",
    "import matplotlib.pyplot as plt\n",
    "import numpy.linalg as lng\n",
    "import subprocess\n",
    "import os\n",
    "import struct\n",
    "import time\n",
    "import math\n",
    "\n",
    "def readImages(file):\n",
    "    with open(file.split('.')[0], 'rb') as f:\n",
    "        magic_num, size = struct.unpack(\">II\", f.read(8))\n",
    "        rows, cols = struct.unpack(\">II\", f.read(8))\n",
    "        data = np.frombuffer(f.read(),dtype=np.dtype(np.uint8).newbyteorder(\">\"))\n",
    "        data = data.astype(np.float32)\n",
    "        data = data.reshape((size, rows * cols))\n",
    "    return data\n",
    "\n",
    "def readLabels(file):\n",
    "    with open(file.split('.')[0], 'rb') as f:\n",
    "        magic_num, size = struct.unpack(\">II\", f.read(8))\n",
    "        data = np.frombuffer(f.read(),dtype=np.dtype(np.uint8).newbyteorder(\">\"))\n",
    "        data = data.reshape((size))\n",
    "    data = np.array([data[i]//5 for i in range(size)])\n",
    "    data_ohe = np.zeros((data.shape[0], data.max()+1))\n",
    "    data_ohe[np.arange(data.shape[0]), data] = 1\n",
    "    return data_ohe, data\n",
    "\n",
    "x_train = readImages('train-images-idx3-ubyte')\n",
    "y_train_ohe, y_train = readLabels('train-labels-idx1-ubyte')\n",
    "x_test = readImages('t10k-images-idx3-ubyte')\n",
    "y_test_ohe, y_test = readLabels('t10k-labels-idx1-ubyte')\n",
    "\n",
    "# z-normalize data\n",
    "# x_train = (x_train-np.mean(x_train))/np.std(x_train)\n",
    "with np.errstate(divide='ignore',invalid='ignore'):\n",
    "    tr_std = np.std(x_train,axis=0)\n",
    "    tr_std = np.where(tr_std != 0, tr_std, 1)\n",
    "#     x_train = np.nan_to_num((x_train - np.mean(x_train))/np.std(x_train)) # \n",
    "    x_train = np.nan_to_num((x_train - np.mean(x_train,axis=0))/tr_std) # across data\n",
    "#     x_test = np.nan_to_num((x_test - np.mean(x_train))/ np.std(x_train))\n",
    "    x_test = np.nan_to_num((x_test - np.mean(x_train,axis=0))/tr_std) # normalize according to mean and std of train\n",
    "\n",
    "# concatenate 1 to the end\n",
    "c = np.array([[1 for i in range(60000)]])\n",
    "ct = np.array([[1 for i in range(10000)]])\n",
    "x_train = np.concatenate((x_train, c.T), axis=1)\n",
    "x_test = np.concatenate((x_test, ct.T), axis=1)"
   ]
  },
  {
   "cell_type": "markdown",
   "metadata": {},
   "source": [
    "# baseline"
   ]
  },
  {
   "cell_type": "code",
   "execution_count": 2,
   "metadata": {},
   "outputs": [],
   "source": [
    "def minibatch_SGD(B, itrs, eta, train_x, train_y, x_test, y_test):\n",
    "    weights, v_weights, loss, te_loss = [], [], [], []\n",
    "    W = np.zeros((785,2)) ## Baseline\n",
    "    interv = np.linspace(1,itrs,num=5)\n",
    "    interv = [math.floor(i) for i in interv]\n",
    "    te_err_list, tr_err_list = [], []\n",
    "    for i in range(itrs): \n",
    "        r = np.random.choice(len(train_x), size=B, replace=False)\n",
    "        X = train_x[r,:] \n",
    "        Y = train_y[r]\n",
    "        # update weights: W\n",
    "        g = W.T.dot(X.T) # 2 x B\n",
    "        g = X.T.dot(g.T) - (X.T.dot(Y)) # 785 x 2\n",
    "        W -= eta/B*g\n",
    "        weights.append(W)\n",
    "        if i in interv:\n",
    "            print(\"Num iters: {}\".format(i))\n",
    "        train_bool = X@W \n",
    "        test_bool = x_test@W \n",
    "        tr_err = 1-((np.argmax(train_bool, axis=1) == np.argmax(Y,axis=1)).sum()) / Y.shape[0]\n",
    "        te_err = 1-((np.argmax(test_bool, axis=1) == np.argmax(y_test,axis=1)).sum()) / y_test.shape[0] \n",
    "        tr_err_list.append(100*tr_err)\n",
    "        te_err_list.append(100*te_err)\n",
    "        loss.append(0.5*np.square(lng.norm(Y - train_bool)/B)) \n",
    "        te_loss.append(0.5*np.square(lng.norm(y_test - test_bool)/10000)) \n",
    "    return weights, loss, tr_err_list, te_loss, te_err_list"
   ]
  },
  {
   "cell_type": "code",
   "execution_count": 3,
   "metadata": {
    "scrolled": true
   },
   "outputs": [
    {
     "name": "stdout",
     "output_type": "stream",
     "text": [
      "Num iters: 1\n",
      "Num iters: 250\n",
      "Num iters: 500\n",
      "Num iters: 750\n"
     ]
    },
    {
     "data": {
      "image/png": "[encoded data removed]",
      "text/plain": [
       "<Figure size 720x360 with 1 Axes>"
      ]
     },
     "metadata": {
      "needs_background": "light"
     },
     "output_type": "display_data"
    }
   ],
   "source": [
    "iters = 1000\n",
    "w, l, tr_err_list, te_l, te_err_list = minibatch_SGD(500, iters, 10**-12, x_train, y_train_ohe, x_test, y_test_ohe)\n",
    "fig = plt.figure(figsize=(10,5))\n",
    "# plt.plot(np.arange(iters),tr_err_list,label='Training Misclass Rate')\n",
    "plt.plot(np.arange(iters),te_err_list,label='Test Misclass Rate')\n",
    "plt.ylabel('Misclassification Rate (%)')\n",
    "plt.xlabel('Iteration Count')\n",
    "plt.legend()\n",
    "plt.savefig('part2')\n",
    "plt.show()"
   ]
  },
  {
   "cell_type": "markdown",
   "metadata": {},
   "source": [
    "# neural net; quadratic loss"
   ]
  },
  {
   "cell_type": "code",
   "execution_count": 4,
   "metadata": {},
   "outputs": [],
   "source": [
    "def relu(x):\n",
    "    return np.maximum(x,0)\n",
    "\n",
    "def predict(W,V,x,lfn):\n",
    "    if lfn == 'ql':\n",
    "        return V@(relu(W.T@x.T))\n",
    "    elif lfn == 'll':\n",
    "        return 1/(1+math.e**-(V@(relu(W.T@x.T))))\n",
    "\n",
    "def update_weights(W,V,x,y,eta,lfn):\n",
    "    # QL\n",
    "    t = relu(W.T@x)\n",
    "    d_relu = np.where(t > 0,1,0)\n",
    "    est_y = V@t \n",
    "    if lfn == 'll':\n",
    "        est_y = 1/(1+math.e**-(est_y))\n",
    "    res = est_y-y\n",
    "    W -= (eta*res*np.multiply(V.T,d_relu)@x.T).T \n",
    "    V -= (eta*res*t).T\n",
    "    return W, V"
   ]
  },
  {
   "cell_type": "code",
   "execution_count": 11,
   "metadata": {},
   "outputs": [],
   "source": [
    "def nn_SGD(B, itrs, eta, train_x, train_y, x_test, y_test, epochs, k):\n",
    "    W_QL, W_LL = np.random.normal(0, 1/k, ((785,k))), np.random.normal(0, 1/k, ((785,k))) \n",
    "    V_QL, V_LL = np.random.normal(0, 1/100, ((1,k))), np.random.normal(0, 1/100, ((1,k))) \n",
    "    interv = [math.floor(i) for i in np.linspace(1,itrs,num=5)]\n",
    "    te_err_list, tr_err_list = [], []\n",
    "    te_err_list_ll, tr_err_list_ll = [], []\n",
    "    tr_err, te_err = 0,0\n",
    "    tr_err_ll, te_err_ll = 0,0\n",
    "    count = 0\n",
    "    \n",
    "    for epoch in range(epochs):\n",
    "        print(\"Epoch: {}\".format(epoch))\n",
    "        r = np.random.choice(np.arange(60000),60000, replace=False)\n",
    "        for i in range(itrs):  \n",
    "            X = train_x[r[i],:].reshape((785,1)) \n",
    "            Y = train_y[r[i]]\n",
    "            \n",
    "            W_QL, V_QL = update_weights(W_QL,V_QL,X,Y,eta,'ql')\n",
    "            W_LL, V_LL = update_weights(W_LL,V_QL,X,Y,eta,'ll')\n",
    "            \n",
    "            if i in interv:\n",
    "                print(\"Num iters: {}\".format(i))\n",
    "            if count % 1000 == 0:\n",
    "                tr_output = predict(W_QL,V_QL,train_x,'ql') # sigma(x) = x\n",
    "                tr_output_ll = predict(W_LL,V_LL,train_x,'ll') # s(x) = logistic fn\n",
    "                \n",
    "                tr_output = np.where(tr_output >= 0.5, 1, 0)\n",
    "                tr_output_ll = np.where(tr_output_ll >= 0.5, 1, 0)\n",
    "                \n",
    "                tr_err = 1 - ((tr_output == train_y).sum())/60000\n",
    "                tr_err_ll = 1 - ((tr_output_ll == train_y).sum())/60000\n",
    "                \n",
    "                tr_err_list.append(100*tr_err)\n",
    "                tr_err_list_ll.append(100*tr_err_ll)\n",
    "                \n",
    "                \n",
    "                test_output = predict(W_QL,V_QL,x_test,'ql') # 1x10k; sigma(x) = x\n",
    "                test_output_ll = predict(W_LL,V_LL,x_test,'ll') # logistic\n",
    "                \n",
    "                test_output = np.where(test_output >= 0.5, 1, 0)\n",
    "                test_output_ll = np.where(test_output_ll >= 0.5, 1, 0)\n",
    "                \n",
    "                te_err = 1 - ((test_output == y_test).sum())/10000\n",
    "                te_err_ll = 1 - ((test_output_ll == y_test).sum())/10000\n",
    "                \n",
    "                te_err_list.append(100*te_err)\n",
    "                te_err_list_ll.append(100*te_err_ll)\n",
    "                \n",
    "            count += 1\n",
    "    return tr_err_list, te_err_list, tr_err_list_ll, te_err_list_ll"
   ]
  },
  {
   "cell_type": "code",
   "execution_count": 12,
   "metadata": {},
   "outputs": [
    {
     "name": "stdout",
     "output_type": "stream",
     "text": [
      "Epoch: 0\n"
     ]
    },
    {
     "ename": "NameError",
     "evalue": "name 'te_errA_ll' is not defined",
     "output_type": "error",
     "traceback": [
      "\u001b[0;31m---------------------------------------------------------------------------\u001b[0m",
      "\u001b[0;31mNameError\u001b[0m                                 Traceback (most recent call last)",
      "\u001b[0;32m<ipython-input-12-2781c4b3116b>\u001b[0m in \u001b[0;36m<module>\u001b[0;34m\u001b[0m\n\u001b[1;32m      7\u001b[0m \u001b[0;34m\u001b[0m\u001b[0m\n\u001b[1;32m      8\u001b[0m \u001b[0;32mfor\u001b[0m \u001b[0mk\u001b[0m \u001b[0;32min\u001b[0m \u001b[0;34m[\u001b[0m\u001b[0;36m5\u001b[0m\u001b[0;34m,\u001b[0m\u001b[0;36m40\u001b[0m\u001b[0;34m,\u001b[0m\u001b[0;36m200\u001b[0m\u001b[0;34m]\u001b[0m\u001b[0;34m:\u001b[0m\u001b[0;34m\u001b[0m\u001b[0;34m\u001b[0m\u001b[0m\n\u001b[0;32m----> 9\u001b[0;31m     \u001b[0mtr_mr\u001b[0m\u001b[0;34m,\u001b[0m \u001b[0mte_mr\u001b[0m\u001b[0;34m,\u001b[0m \u001b[0mtr_mr_ll\u001b[0m\u001b[0;34m,\u001b[0m \u001b[0mte_mr_ll\u001b[0m \u001b[0;34m=\u001b[0m \u001b[0mnn_SGD\u001b[0m\u001b[0;34m(\u001b[0m\u001b[0;36m1\u001b[0m\u001b[0;34m,\u001b[0m \u001b[0mitrs\u001b[0m\u001b[0;34m,\u001b[0m \u001b[0meta\u001b[0m\u001b[0;34m,\u001b[0m \u001b[0mx_train\u001b[0m\u001b[0;34m,\u001b[0m \u001b[0my_train\u001b[0m\u001b[0;34m,\u001b[0m \u001b[0mx_test\u001b[0m\u001b[0;34m,\u001b[0m \u001b[0my_test\u001b[0m\u001b[0;34m,\u001b[0m \u001b[0mepochs\u001b[0m\u001b[0;34m,\u001b[0m \u001b[0mk\u001b[0m\u001b[0;34m)\u001b[0m\u001b[0;34m\u001b[0m\u001b[0;34m\u001b[0m\u001b[0m\n\u001b[0m\u001b[1;32m     10\u001b[0m \u001b[0;34m\u001b[0m\u001b[0m\n\u001b[1;32m     11\u001b[0m     \u001b[0mplt\u001b[0m\u001b[0;34m.\u001b[0m\u001b[0msubplot\u001b[0m\u001b[0;34m(\u001b[0m\u001b[0;36m2\u001b[0m\u001b[0;34m,\u001b[0m \u001b[0;36m1\u001b[0m\u001b[0;34m,\u001b[0m \u001b[0;36m1\u001b[0m\u001b[0;34m)\u001b[0m\u001b[0;34m\u001b[0m\u001b[0;34m\u001b[0m\u001b[0m\n",
      "\u001b[0;32m<ipython-input-11-972b443220e7>\u001b[0m in \u001b[0;36mnn_SGD\u001b[0;34m(B, itrs, eta, train_x, train_y, x_test, y_test, epochs, k)\u001b[0m\n\u001b[1;32m     45\u001b[0m \u001b[0;34m\u001b[0m\u001b[0m\n\u001b[1;32m     46\u001b[0m                 \u001b[0mte_err_list\u001b[0m\u001b[0;34m.\u001b[0m\u001b[0mappend\u001b[0m\u001b[0;34m(\u001b[0m\u001b[0;36m100\u001b[0m\u001b[0;34m*\u001b[0m\u001b[0mte_err\u001b[0m\u001b[0;34m)\u001b[0m\u001b[0;34m\u001b[0m\u001b[0;34m\u001b[0m\u001b[0m\n\u001b[0;32m---> 47\u001b[0;31m                 \u001b[0mte_err_list_ll\u001b[0m\u001b[0;34m.\u001b[0m\u001b[0mappend\u001b[0m\u001b[0;34m(\u001b[0m\u001b[0;36m100\u001b[0m\u001b[0;34m*\u001b[0m\u001b[0mte_errA_ll\u001b[0m\u001b[0;34m)\u001b[0m\u001b[0;34m\u001b[0m\u001b[0;34m\u001b[0m\u001b[0m\n\u001b[0m\u001b[1;32m     48\u001b[0m \u001b[0;34m\u001b[0m\u001b[0m\n\u001b[1;32m     49\u001b[0m             \u001b[0mcount\u001b[0m \u001b[0;34m+=\u001b[0m \u001b[0;36m1\u001b[0m\u001b[0;34m\u001b[0m\u001b[0;34m\u001b[0m\u001b[0m\n",
      "\u001b[0;31mNameError\u001b[0m: name 'te_errA_ll' is not defined"
     ]
    },
    {
     "data": {
      "text/plain": [
       "<Figure size 720x1008 with 0 Axes>"
      ]
     },
     "metadata": {},
     "output_type": "display_data"
    }
   ],
   "source": [
    "fig = plt.figure(figsize=(10,14))\n",
    "itrs = 60000 \n",
    "eta = 10**-4.2\n",
    "epochs = 5\n",
    "colors = ['c','m','y']\n",
    "j = 0\n",
    "\n",
    "for k in [5,40,200]:\n",
    "    tr_mr, te_mr, tr_mr_ll, te_mr_ll = nn_SGD(1, itrs, eta, x_train, y_train, x_test, y_test, epochs, k)\n",
    "    \n",
    "    plt.subplot(2, 1, 1)\n",
    "    plt.plot(np.linspace(0,300000,num=itrs*epochs/1000), tr_mr, color=colors[j], linestyle='--', label = 'Training MR, k: {}'.format(k))\n",
    "    plt.plot(np.linspace(0,300000,num=itrs*epochs/1000), te_mr, color=colors[j], label='Test MR, k: {}'.format(k))\n",
    "    plt.ylabel('MR: Misclassification Rate (%)')\n",
    "    plt.xlabel('Iteration Count')\n",
    "    plt.title('Misclassification Rate (MR) vs. Iterations')\n",
    "    \n",
    "    plt.subplot(2, 1, 2)\n",
    "    plt.plot(np.linspace(0,300000,num=itrs*epochs/1000), tr_mr_ll, color=colors[j], linestyle='--', label = 'Training MR, k: {}'.format(k))\n",
    "    plt.plot(np.linspace(0,300000,num=itrs*epochs/1000), te_mr_ll, color=colors[j], label='Test MR, k: {}'.format(k))\n",
    "    plt.ylabel('MR: Misclassification Rate (%)')\n",
    "    plt.xlabel('Iteration Count')\n",
    "    plt.title('Logistic Loss: Misclassification Rate (MR) vs. Iterations')\n",
    "    \n",
    "    j += 1\n",
    "    break\n",
    "    \n",
    "plt.legend()\n",
    "plt.savefig('TEMP')\n",
    "plt.show()"
   ]
  },
  {
   "cell_type": "code",
   "execution_count": null,
   "metadata": {},
   "outputs": [],
   "source": []
  }
 ],
 "metadata": {
  "kernelspec": {
   "display_name": "Python 3",
   "language": "python",
   "name": "python3"
  },
  "language_info": {
   "codemirror_mode": {
    "name": "ipython",
    "version": 3
   },
   "file_extension": ".py",
   "mimetype": "text/x-python",
   "name": "python",
   "nbconvert_exporter": "python",
   "pygments_lexer": "ipython3",
   "version": "3.7.3"
  }
 },
 "nbformat": 4,
 "nbformat_minor": 2
}
