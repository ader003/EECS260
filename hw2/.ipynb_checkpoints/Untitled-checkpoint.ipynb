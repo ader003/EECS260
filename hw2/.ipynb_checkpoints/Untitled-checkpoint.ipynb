{
 "cells": [
  {
   "cell_type": "code",
   "execution_count": 1,
   "metadata": {},
   "outputs": [],
   "source": [
    "import numpy as np\n",
    "import matplotlib.pyplot as plt\n",
    "import numpy.linalg as lng\n",
    "import subprocess\n",
    "import os\n",
    "import struct\n",
    "import time\n",
    "import math"
   ]
  },
  {
   "cell_type": "markdown",
   "metadata": {},
   "source": [
    "# read data and preprocessing"
   ]
  },
  {
   "cell_type": "code",
   "execution_count": 2,
   "metadata": {},
   "outputs": [],
   "source": [
    "def readImages(file):\n",
    "    with open(file.split('.')[0], 'rb') as f:\n",
    "        magic_num, size = struct.unpack(\">II\", f.read(8))\n",
    "        rows, cols = struct.unpack(\">II\", f.read(8))\n",
    "        data = np.frombuffer(f.read(),dtype=np.dtype(np.uint8).newbyteorder(\">\"))\n",
    "        data = data.astype(np.float32)\n",
    "        data = data.reshape((size, rows * cols))\n",
    "    return data\n",
    "\n",
    "def readLabels(file):\n",
    "    with open(file.split('.')[0], 'rb') as f:\n",
    "        magic_num, size = struct.unpack(\">II\", f.read(8))\n",
    "        data = np.frombuffer(f.read(),dtype=np.dtype(np.uint8).newbyteorder(\">\"))\n",
    "        data = data.reshape((size))\n",
    "    data = np.array([data[i]//5 for i in range(size)])\n",
    "    data_ohe = np.zeros((data.shape[0], data.max()+1))\n",
    "    data_ohe[np.arange(data.shape[0]), data] = 1\n",
    "    return data_ohe, data\n",
    "\n",
    "x_train = readImages('train-images-idx3-ubyte')\n",
    "y_train_ohe, y_train = readLabels('train-labels-idx1-ubyte')\n",
    "x_test = readImages('t10k-images-idx3-ubyte')\n",
    "y_test_ohe, y_test = readLabels('t10k-labels-idx1-ubyte')\n",
    "# x-normalize data\n",
    "x_train = (x_train-np.mean(x_train))/np.std(x_train)\n",
    "# concatenate 1 to the end\n",
    "c = np.array([[1 for i in range(60000)]])\n",
    "ct = np.array([[1 for i in range(10000)]])\n",
    "x_train = np.concatenate((x_train, c.T), axis=1)\n",
    "x_test = np.concatenate((x_test, ct.T), axis=1)\n"
   ]
  },
  {
   "cell_type": "code",
   "execution_count": 3,
   "metadata": {},
   "outputs": [
    {
     "name": "stdout",
     "output_type": "stream",
     "text": [
      "[1 0 0 ... 0 1 1]\n"
     ]
    }
   ],
   "source": [
    "print(y_test)"
   ]
  },
  {
   "cell_type": "markdown",
   "metadata": {},
   "source": [
    "# baseline"
   ]
  },
  {
   "cell_type": "code",
   "execution_count": null,
   "metadata": {},
   "outputs": [],
   "source": [
    "def minibatch_SGD(B, itrs, eta, train_x, train_y, x_test, y_test):\n",
    "    weights, v_weights, loss, te_loss = [], [], [], []\n",
    "    W = np.zeros((785,2)) ## Baseline\n",
    "    interv = np.linspace(1,itrs,num=5)\n",
    "    interv = [math.floor(i) for i in interv]\n",
    "    te_err_list, tr_err_list = [], []\n",
    "    for i in range(itrs): \n",
    "        r = np.random.choice(len(train_x), size=B, replace=False)\n",
    "        X = train_x[r,:] \n",
    "        Y = train_y[r]\n",
    "        # update weights: W\n",
    "        g = W.T.dot(X.T) # 2 x B\n",
    "        g = X.T.dot(g.T) - (X.T.dot(Y)) # 785 x 2\n",
    "        W -= eta/B*g\n",
    "        weights.append(W)\n",
    "        if i in interv:\n",
    "            print(\"Num iters: {}\".format(i))\n",
    "        train_bool = X@W \n",
    "        test_bool = x_test@W \n",
    "        tr_err = 1-((np.argmax(train_bool, axis=1) == np.argmax(Y,axis=1)).sum()) / Y.shape[0]\n",
    "        te_err = 1-((np.argmax(test_bool, axis=1) == np.argmax(y_test,axis=1)).sum()) / y_test.shape[0] \n",
    "        tr_err_list.append(100*tr_err)\n",
    "        te_err_list.append(100*te_err)\n",
    "        loss.append(0.5*np.square(lng.norm(Y - train_bool)/B)) \n",
    "        te_loss.append(0.5*np.square(lng.norm(y_test - test_bool)/10000)) \n",
    "    return weights, loss, tr_err_list, te_loss, te_err_list"
   ]
  },
  {
   "cell_type": "code",
   "execution_count": null,
   "metadata": {
    "scrolled": true
   },
   "outputs": [],
   "source": [
    "iters = 300\n",
    "w, l, tr_err_list, te_l, te_err_list = minibatch_SGD(100, iters, 10**-11, x_train, y_train_ohe, x_test, y_test_ohe)\n",
    "fig = plt.figure(figsize=(10,7))\n",
    "plt.plot(np.arange(iters),tr_err_list,label='Training Misclass Rate')\n",
    "plt.plot(np.arange(iters),te_err_list,label='Test Misclass Rate')\n",
    "plt.ylabel('Misclassification Rate (%)')\n",
    "plt.xlabel('Iteration Count')\n",
    "plt.legend()\n",
    "plt.savefig('part2')\n",
    "plt.show()\n",
    "# plt.plot(np.linspace(1,iters,num=iters),l,label=\"Training Loss\")\n",
    "# plt.plot(np.linspace(1,iters,num=iters),te_l,label=\"Test Loss\")\n",
    "# plt.ylabel('Quadratic Loss')\n",
    "# plt.xlabel('Iteration Count')\n",
    "# plt.legend()\n",
    "# plt.show()"
   ]
  },
  {
   "cell_type": "code",
   "execution_count": null,
   "metadata": {},
   "outputs": [],
   "source": [
    "print(y_test)"
   ]
  },
  {
   "cell_type": "markdown",
   "metadata": {},
   "source": [
    "# neural net; quadratic loss"
   ]
  },
  {
   "cell_type": "code",
   "execution_count": 7,
   "metadata": {},
   "outputs": [],
   "source": [
    "def relu(x):\n",
    "    return np.maximum(x,0)\n",
    "\n",
    "def QL_weights(W,V,x,y,eta): # quadratic loss\n",
    "    # update weights: W\n",
    "#     print(\"V: {}\".format(V.shape))\n",
    "#     print(\"W.T: {}\".format((W.T).shape))\n",
    "#     print(\"x.T: {}\".format((x.T).shape))\n",
    "#     print(\"y: {}\".format(y.shape))\n",
    "    t = relu(W.T@x)\n",
    "    d_relu = np.where(t > 0,1,0)\n",
    "    est_y = V@t # spits out scalar value\n",
    "    res = est_y-y\n",
    "#     print(\"res: {}\".format(res))\n",
    "    W -= (eta*res*np.multiply(V.T,d_relu)@x.T).T # hadamard product\n",
    "    V -= (eta*res*t).T\n",
    "    return W, V"
   ]
  },
  {
   "cell_type": "code",
   "execution_count": 8,
   "metadata": {},
   "outputs": [],
   "source": [
    "def nn_SGD(B, itrs, eta, train_x, train_y, x_test, y_test, epochs, k):\n",
    "    W_QL = np.random.normal(0, 1/k, ((785,k))) \n",
    "    V_QL = np.random.normal(0, 1/100, ((1,k))) \n",
    "    interv = [math.floor(i) for i in np.linspace(1,itrs,num=5)]\n",
    "    te_err_list, tr_err_list = [], []\n",
    "    tr_err, te_err = 0,0\n",
    "    count = 1\n",
    "\n",
    "    for epoch in range(epochs):\n",
    "        print(\"Epoch: {}\".format(epoch))\n",
    "        r = np.random.choice(np.arange(60000),itrs)\n",
    "        for i in range(itrs):  \n",
    "            X = np.array(train_x[r[i],:]).reshape((785,1)) # NN\n",
    "            Y = train_y[r[i]]\n",
    "            W_QL, V_QL = QL_weights(W_QL,V_QL,X,Y,eta) # quadratic loss\n",
    "#             W_LL, V_LL = LL_weights(W_LL, V_LL) # logistic loss\n",
    "            if i in interv:\n",
    "                print(\"Num iters: {}\".format(i))\n",
    "            train_bool = V_QL@(relu(W_QL.T@X))\n",
    "            train_bool = np.where(train_bool >= 0.5, 1, 0)\n",
    "            if train_bool != Y: # one example at at time\n",
    "                tr_err += 1\n",
    "            if count % 1000 == 0:\n",
    "                tr_err_list.append(100*tr_err/count)\n",
    "                test_output = V_QL@(relu(W_QL.T@x_test.T)) # 1x10k\n",
    "                test_output = np.where(test_output >= 0.5, 1, 0)\n",
    "                te_err = 1 - ((test_output == y_test).sum())/10000\n",
    "                te_err_list.append(100*te_err)\n",
    "            count += 1\n",
    "    return tr_err_list, te_err_list"
   ]
  },
  {
   "cell_type": "code",
   "execution_count": 9,
   "metadata": {},
   "outputs": [
    {
     "name": "stdout",
     "output_type": "stream",
     "text": [
      "Epoch: 0\n",
      "Num iters: 1\n",
      "Num iters: 15000\n",
      "Num iters: 30000\n",
      "Num iters: 45000\n",
      "Epoch: 1\n",
      "Num iters: 1\n",
      "Num iters: 15000\n",
      "Num iters: 30000\n",
      "Num iters: 45000\n",
      "Epoch: 2\n",
      "Num iters: 1\n",
      "Num iters: 15000\n",
      "Num iters: 30000\n",
      "Num iters: 45000\n",
      "Epoch: 3\n",
      "Num iters: 1\n",
      "Num iters: 15000\n",
      "Num iters: 30000\n",
      "Num iters: 45000\n",
      "Epoch: 4\n",
      "Num iters: 1\n",
      "Num iters: 15000\n",
      "Num iters: 30000\n",
      "Num iters: 45000\n"
     ]
    },
    {
     "name": "stderr",
     "output_type": "stream",
     "text": [
      "/Users/audrey_der/anaconda3/lib/python3.7/site-packages/ipykernel_launcher.py:9: DeprecationWarning: object of type <class 'float'> cannot be safely interpreted as an integer.\n",
      "  if __name__ == '__main__':\n",
      "/Users/audrey_der/anaconda3/lib/python3.7/site-packages/ipykernel_launcher.py:10: DeprecationWarning: object of type <class 'float'> cannot be safely interpreted as an integer.\n",
      "  # Remove the CWD from sys.path while we load stuff.\n"
     ]
    },
    {
     "name": "stdout",
     "output_type": "stream",
     "text": [
      "Epoch: 0\n",
      "Num iters: 1\n",
      "Num iters: 15000\n",
      "Num iters: 30000\n",
      "Num iters: 45000\n",
      "Epoch: 1\n",
      "Num iters: 1\n",
      "Num iters: 15000\n",
      "Num iters: 30000\n",
      "Num iters: 45000\n",
      "Epoch: 2\n",
      "Num iters: 1\n",
      "Num iters: 15000\n",
      "Num iters: 30000\n",
      "Num iters: 45000\n",
      "Epoch: 3\n",
      "Num iters: 1\n",
      "Num iters: 15000\n",
      "Num iters: 30000\n",
      "Num iters: 45000\n",
      "Epoch: 4\n",
      "Num iters: 1\n",
      "Num iters: 15000\n",
      "Num iters: 30000\n",
      "Num iters: 45000\n",
      "Epoch: 0\n",
      "Num iters: 1\n",
      "Num iters: 15000\n",
      "Num iters: 30000\n",
      "Num iters: 45000\n",
      "Epoch: 1\n",
      "Num iters: 1\n",
      "Num iters: 15000\n",
      "Num iters: 30000\n",
      "Num iters: 45000\n",
      "Epoch: 2\n",
      "Num iters: 1\n",
      "Num iters: 15000\n",
      "Num iters: 30000\n",
      "Num iters: 45000\n",
      "Epoch: 3\n",
      "Num iters: 1\n",
      "Num iters: 15000\n",
      "Num iters: 30000\n",
      "Num iters: 45000\n",
      "Epoch: 4\n",
      "Num iters: 1\n",
      "Num iters: 15000\n",
      "Num iters: 30000\n",
      "Num iters: 45000\n"
     ]
    },
    {
     "data": {
      "image/png": "[encoded data removed]",
      "text/plain": [
       "<Figure size 720x504 with 1 Axes>"
      ]
     },
     "metadata": {
      "needs_background": "light"
     },
     "output_type": "display_data"
    }
   ],
   "source": [
    "fig = plt.figure(figsize=(10,7))\n",
    "itrs = 60000 \n",
    "eta = 10**-6\n",
    "epochs = 5\n",
    "colors = ['c','m','y']\n",
    "j = 0\n",
    "for k in [5,20,40]:\n",
    "    tr_mr, te_mr = nn_SGD(1, itrs, eta, x_train, y_train, x_test, y_test, epochs, k)\n",
    "    plt.plot(np.linspace(0,300000,num=itrs*epochs/1000), tr_mr, color=colors[j], linestyle='--', label = 'Training MR, k: {}'.format(k))\n",
    "    plt.plot(np.linspace(0,300000,num=itrs*epochs/1000), te_mr, color=colors[j], label='Test MR, k: {}'.format(k))\n",
    "    plt.ylabel('MR: Misclassification Rate (%)')\n",
    "    plt.xlabel('Iteration Count')\n",
    "    plt.title('Misclassification Rate (MR) vs. Number of Iterations')\n",
    "    j += 1\n",
    "plt.legend()\n",
    "plt.show()"
   ]
  },
  {
   "cell_type": "code",
   "execution_count": null,
   "metadata": {},
   "outputs": [],
   "source": [
    "print(te_mr)"
   ]
  },
  {
   "cell_type": "code",
   "execution_count": null,
   "metadata": {},
   "outputs": [],
   "source": []
  },
  {
   "cell_type": "code",
   "execution_count": null,
   "metadata": {},
   "outputs": [],
   "source": []
  },
  {
   "cell_type": "code",
   "execution_count": null,
   "metadata": {},
   "outputs": [],
   "source": []
  }
 ],
 "metadata": {
  "kernelspec": {
   "display_name": "Python 3",
   "language": "python",
   "name": "python3"
  },
  "language_info": {
   "codemirror_mode": {
    "name": "ipython",
    "version": 3
   },
   "file_extension": ".py",
   "mimetype": "text/x-python",
   "name": "python",
   "nbconvert_exporter": "python",
   "pygments_lexer": "ipython3",
   "version": "3.7.3"
  }
 },
 "nbformat": 4,
 "nbformat_minor": 2
}
